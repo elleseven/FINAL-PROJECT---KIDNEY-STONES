{
 "cells": [
  {
   "cell_type": "markdown",
   "id": "82e46931",
   "metadata": {
    "papermill": {
     "duration": 0.015541,
     "end_time": "2023-11-11T22:38:26.389633",
     "exception": false,
     "start_time": "2023-11-11T22:38:26.374092",
     "status": "completed"
    },
    "tags": []
   },
   "source": [
    "<p style=\"text-align:center;\"><span style=\"font-size:80px;\"><span style=\"color:navy\"><span style=\"font-family:cursive;\"><span style=\"font-weight:1000\">Hi Everybody 👋</span></span></span></span></p>"
   ]
  },
  {
   "cell_type": "markdown",
   "id": "57e1693a",
   "metadata": {
    "papermill": {
     "duration": 0.015894,
     "end_time": "2023-11-11T22:38:26.516369",
     "exception": false,
     "start_time": "2023-11-11T22:38:26.500475",
     "status": "completed"
    },
    "tags": []
   },
   "source": [
    "<a id=\"content\"></a>    \n",
    "<div style=\"border-radius:20px; padding: 15px; background-color: #f0f2fa; font-size:100%; text-align:left\">\n",
    "\n",
    "<h2><span style=\"text-align:center; font-weight:bolder; color:navy\">Table of Contents:</span></h2>\n",
    "\n",
    " * **[Step 1 | Nessesary Libraries](#setup)**\n",
    "    -  [1.1 | Import Libraries](#import)\n",
    "    -  [1.2 | Library configurations](#lib_config)\n",
    " *  **[Step 2 | Data](#data)**\n",
    "    -  [2.1 | Collecting Data](#load_data)\n",
    "    -  [2.2 | Data Information](#info)\n",
    " *  **[Step 3 | Data Wrangling](#data_wrangling)**\n",
    "    -  [3.1 | Normal Rnages](#normal_range)\n",
    "    -  [3.2 | Visualization and Plots](#plot)\n",
    "    -  [3.3 | Missing Values](#missing)\n",
    " *  **[Step 4 | Macine Learning](#ml)**\n",
    "    -  [4.1 | Initializations](#init)\n",
    "    -  [4.2 | Normalization](#normalize)\n",
    "    -  [4.3 | LogisticRegression](#lr)\n",
    "    -  [4.4 | DecisionTreeClassifier](#tree)\n",
    "    -  [4.5 | KNeighborsClassifier](#knn)\n",
    "    -  [4.6 | RandomForestClassifier](#rf)\n",
    "    -  [4.7 | result](#result)\n",
    " *  **[Author](#author)**"
   ]
  },
  {
   "cell_type": "markdown",
   "id": "e0bf25e6",
   "metadata": {
    "papermill": {
     "duration": 0.016539,
     "end_time": "2023-11-11T22:38:26.549311",
     "exception": false,
     "start_time": "2023-11-11T22:38:26.532772",
     "status": "completed"
    },
    "tags": []
   },
   "source": [
    "<a id=\"setup\"></a>\n",
    "# <p style=\"padding:15px;background-color:navy ;margin:0;color:#ffffff;font-family:Chalkduster;font-size:75%;text-align:center;border-radius: 75px 75px;font-weight:700; box-shadow: 10px 10px 5px #32409c\">Step 1 | Nessasary Libraries</p>\n",
    "\n",
    "## 🔝 [Go to Top](#content) 🔝"
   ]
  },
  {
   "cell_type": "markdown",
   "id": "8540af99",
   "metadata": {
    "papermill": {
     "duration": 0.016151,
     "end_time": "2023-11-11T22:38:26.581760",
     "exception": false,
     "start_time": "2023-11-11T22:38:26.565609",
     "status": "completed"
    },
    "tags": []
   },
   "source": [
    "<a id=\"import\"></a>\n",
    "# <b><span style=\"color:#0266b7\">Step 1.1 | </span><span style=\"color:#ff6200\">Import Libraries</span></b>"
   ]
  },
  {
   "cell_type": "code",
   "execution_count": 1,
   "id": "f4788d43",
   "metadata": {
    "papermill": {
     "duration": 2.804567,
     "end_time": "2023-11-11T22:38:29.403362",
     "exception": false,
     "start_time": "2023-11-11T22:38:26.598795",
     "status": "completed"
    },
    "tags": []
   },
   "outputs": [],
   "source": [
    "import pandas as pd\n",
    "import numpy as np\n",
    "import seaborn as sns\n",
    "import matplotlib.pyplot as plt\n",
    "import warnings\n",
    "\n",
    "################### Sklearn ####################################\n",
    "\n",
    "from sklearn import preprocessing\n",
    "from sklearn.model_selection import train_test_split\n",
    "from sklearn.model_selection import GridSearchCV\n",
    "from sklearn.linear_model import LogisticRegression\n",
    "from sklearn.svm import SVC\n",
    "from sklearn.tree import DecisionTreeClassifier\n",
    "from sklearn.neighbors import KNeighborsClassifier\n",
    "from sklearn.ensemble import RandomForestClassifier\n",
    "from sklearn import metrics"
   ]
  },
  {
   "cell_type": "markdown",
   "id": "c4df6752",
   "metadata": {
    "papermill": {
     "duration": 0.014844,
     "end_time": "2023-11-11T22:38:29.433489",
     "exception": false,
     "start_time": "2023-11-11T22:38:29.418645",
     "status": "completed"
    },
    "tags": []
   },
   "source": [
    "<a id=\"import\"></a>\n",
    "# <b><span style=\"color:#0266b7\">Step 1.2 | </span><span style=\"color:#ff6200\">Library configurations</span></b>"
   ]
  },
  {
   "cell_type": "code",
   "execution_count": 2,
   "id": "f5c418f7",
   "metadata": {
    "papermill": {
     "duration": 0.027784,
     "end_time": "2023-11-11T22:38:29.476632",
     "exception": false,
     "start_time": "2023-11-11T22:38:29.448848",
     "status": "completed"
    },
    "tags": []
   },
   "outputs": [],
   "source": [
    "pd.options.mode.copy_on_write = True # Allow re-write on variable\n",
    "\n",
    "sns.set_style('darkgrid') # Seaborn style\n",
    "\n",
    "warnings.filterwarnings('ignore') # Ignore warnings\n",
    "\n",
    "pd.set_option('display.max_columns', None) # Setting this option will print all collumns of a dataframe\n",
    "\n",
    "pd.set_option('display.max_colwidth', None) # Setting this option will print all of the data in a feature"
   ]
  },
  {
   "cell_type": "markdown",
   "id": "1a702000",
   "metadata": {
    "jp-MarkdownHeadingCollapsed": true,
    "papermill": {
     "duration": 0.015466,
     "end_time": "2023-11-11T22:38:29.507309",
     "exception": false,
     "start_time": "2023-11-11T22:38:29.491843",
     "status": "completed"
    },
    "tags": []
   },
   "source": [
    "<a id=\"data\"></a>\n",
    "# <p style=\"padding:15px;background-color:navy ;margin:0;color:#ffffff;font-family:Chalkduster;font-size:75%;text-align:center;border-radius: 75px 75px;font-weight:700; box-shadow: 10px 10px 5px #32409c\">Step 2 | Data</p>\n",
    "### 🔝 [Tabel of Contents](#content)"
   ]
  },
  {
   "cell_type": "markdown",
   "id": "09f1bdcb",
   "metadata": {
    "papermill": {
     "duration": 0.08087,
     "end_time": "2023-11-11T22:38:29.604066",
     "exception": false,
     "start_time": "2023-11-11T22:38:29.523196",
     "status": "completed"
    },
    "tags": []
   },
   "source": [
    "<a id=\"load_data\"></a>\n",
    "# <b><span style=\"color:#0266b7\">Step 2.1 | </span><span style=\"color:#ff6200\">Collecting Data</span></b>"
   ]
  },
  {
   "cell_type": "code",
   "execution_count": 3,
   "id": "8dc1a5f7",
   "metadata": {
    "papermill": {
     "duration": 0.073458,
     "end_time": "2023-11-11T22:38:29.693897",
     "exception": false,
     "start_time": "2023-11-11T22:38:29.620439",
     "status": "completed"
    },
    "tags": []
   },
   "outputs": [
    {
     "data": {
      "text/html": [
       "<div>\n",
       "<style scoped>\n",
       "    .dataframe tbody tr th:only-of-type {\n",
       "        vertical-align: middle;\n",
       "    }\n",
       "\n",
       "    .dataframe tbody tr th {\n",
       "        vertical-align: top;\n",
       "    }\n",
       "\n",
       "    .dataframe thead th {\n",
       "        text-align: right;\n",
       "    }\n",
       "</style>\n",
       "<table border=\"1\" class=\"dataframe\">\n",
       "  <thead>\n",
       "    <tr style=\"text-align: right;\">\n",
       "      <th></th>\n",
       "      <th>Unnamed: 0</th>\n",
       "      <th>gravity</th>\n",
       "      <th>ph</th>\n",
       "      <th>osmo</th>\n",
       "      <th>cond</th>\n",
       "      <th>urea</th>\n",
       "      <th>calc</th>\n",
       "      <th>target</th>\n",
       "    </tr>\n",
       "  </thead>\n",
       "  <tbody>\n",
       "    <tr>\n",
       "      <th>0</th>\n",
       "      <td>0</td>\n",
       "      <td>1.021000</td>\n",
       "      <td>4.910000</td>\n",
       "      <td>725</td>\n",
       "      <td>14.000000</td>\n",
       "      <td>443</td>\n",
       "      <td>2.450000</td>\n",
       "      <td>0</td>\n",
       "    </tr>\n",
       "    <tr>\n",
       "      <th>1</th>\n",
       "      <td>1</td>\n",
       "      <td>1.017000</td>\n",
       "      <td>5.740000</td>\n",
       "      <td>577</td>\n",
       "      <td>20.000000</td>\n",
       "      <td>296</td>\n",
       "      <td>4.490000</td>\n",
       "      <td>0</td>\n",
       "    </tr>\n",
       "    <tr>\n",
       "      <th>2</th>\n",
       "      <td>2</td>\n",
       "      <td>1.008000</td>\n",
       "      <td>7.200000</td>\n",
       "      <td>321</td>\n",
       "      <td>14.900000</td>\n",
       "      <td>101</td>\n",
       "      <td>2.360000</td>\n",
       "      <td>0</td>\n",
       "    </tr>\n",
       "    <tr>\n",
       "      <th>3</th>\n",
       "      <td>3</td>\n",
       "      <td>1.011000</td>\n",
       "      <td>5.510000</td>\n",
       "      <td>408</td>\n",
       "      <td>12.600000</td>\n",
       "      <td>224</td>\n",
       "      <td>2.150000</td>\n",
       "      <td>0</td>\n",
       "    </tr>\n",
       "    <tr>\n",
       "      <th>4</th>\n",
       "      <td>4</td>\n",
       "      <td>1.005000</td>\n",
       "      <td>6.520000</td>\n",
       "      <td>187</td>\n",
       "      <td>7.500000</td>\n",
       "      <td>91</td>\n",
       "      <td>1.160000</td>\n",
       "      <td>0</td>\n",
       "    </tr>\n",
       "    <tr>\n",
       "      <th>...</th>\n",
       "      <td>...</td>\n",
       "      <td>...</td>\n",
       "      <td>...</td>\n",
       "      <td>...</td>\n",
       "      <td>...</td>\n",
       "      <td>...</td>\n",
       "      <td>...</td>\n",
       "      <td>...</td>\n",
       "    </tr>\n",
       "    <tr>\n",
       "      <th>85</th>\n",
       "      <td>85</td>\n",
       "      <td>1.021452</td>\n",
       "      <td>5.556081</td>\n",
       "      <td>756</td>\n",
       "      <td>24.241481</td>\n",
       "      <td>367</td>\n",
       "      <td>7.669120</td>\n",
       "      <td>1</td>\n",
       "    </tr>\n",
       "    <tr>\n",
       "      <th>86</th>\n",
       "      <td>86</td>\n",
       "      <td>1.016501</td>\n",
       "      <td>6.900257</td>\n",
       "      <td>549</td>\n",
       "      <td>20.549790</td>\n",
       "      <td>204</td>\n",
       "      <td>5.775256</td>\n",
       "      <td>1</td>\n",
       "    </tr>\n",
       "    <tr>\n",
       "      <th>87</th>\n",
       "      <td>87</td>\n",
       "      <td>1.032754</td>\n",
       "      <td>5.443491</td>\n",
       "      <td>1085</td>\n",
       "      <td>23.188653</td>\n",
       "      <td>576</td>\n",
       "      <td>8.664169</td>\n",
       "      <td>1</td>\n",
       "    </tr>\n",
       "    <tr>\n",
       "      <th>88</th>\n",
       "      <td>88</td>\n",
       "      <td>1.023870</td>\n",
       "      <td>5.106433</td>\n",
       "      <td>325</td>\n",
       "      <td>12.124689</td>\n",
       "      <td>50</td>\n",
       "      <td>0.781620</td>\n",
       "      <td>1</td>\n",
       "    </tr>\n",
       "    <tr>\n",
       "      <th>89</th>\n",
       "      <td>89</td>\n",
       "      <td>1.013723</td>\n",
       "      <td>6.308943</td>\n",
       "      <td>472</td>\n",
       "      <td>16.907792</td>\n",
       "      <td>174</td>\n",
       "      <td>2.556405</td>\n",
       "      <td>1</td>\n",
       "    </tr>\n",
       "  </tbody>\n",
       "</table>\n",
       "<p>90 rows × 8 columns</p>\n",
       "</div>"
      ],
      "text/plain": [
       "    Unnamed: 0   gravity        ph  osmo       cond  urea      calc  target\n",
       "0            0  1.021000  4.910000   725  14.000000   443  2.450000       0\n",
       "1            1  1.017000  5.740000   577  20.000000   296  4.490000       0\n",
       "2            2  1.008000  7.200000   321  14.900000   101  2.360000       0\n",
       "3            3  1.011000  5.510000   408  12.600000   224  2.150000       0\n",
       "4            4  1.005000  6.520000   187   7.500000    91  1.160000       0\n",
       "..         ...       ...       ...   ...        ...   ...       ...     ...\n",
       "85          85  1.021452  5.556081   756  24.241481   367  7.669120       1\n",
       "86          86  1.016501  6.900257   549  20.549790   204  5.775256       1\n",
       "87          87  1.032754  5.443491  1085  23.188653   576  8.664169       1\n",
       "88          88  1.023870  5.106433   325  12.124689    50  0.781620       1\n",
       "89          89  1.013723  6.308943   472  16.907792   174  2.556405       1\n",
       "\n",
       "[90 rows x 8 columns]"
      ]
     },
     "execution_count": 3,
     "metadata": {},
     "output_type": "execute_result"
    }
   ],
   "source": [
    "data = pd.read_csv(\"kidney-stone-dataset.csv\")\n",
    "data"
   ]
  },
  {
   "cell_type": "markdown",
   "id": "b3f4db66",
   "metadata": {
    "papermill": {
     "duration": 0.015476,
     "end_time": "2023-11-11T22:38:29.725118",
     "exception": false,
     "start_time": "2023-11-11T22:38:29.709642",
     "status": "completed"
    },
    "tags": []
   },
   "source": [
    "<a id=\"info\"></a>\n",
    "# <b><span style=\"color:#0266b7\">Step 2.2 | </span><span style=\"color:#ff6200\">Data Information</span></b>"
   ]
  },
  {
   "cell_type": "code",
   "execution_count": 4,
   "id": "04638e56",
   "metadata": {
    "papermill": {
     "duration": 0.050336,
     "end_time": "2023-11-11T22:38:29.791377",
     "exception": false,
     "start_time": "2023-11-11T22:38:29.741041",
     "status": "completed"
    },
    "tags": []
   },
   "outputs": [
    {
     "name": "stdout",
     "output_type": "stream",
     "text": [
      "<class 'pandas.core.frame.DataFrame'>\n",
      "RangeIndex: 90 entries, 0 to 89\n",
      "Data columns (total 7 columns):\n",
      " #   Column   Non-Null Count  Dtype  \n",
      "---  ------   --------------  -----  \n",
      " 0   gravity  90 non-null     float64\n",
      " 1   ph       90 non-null     float64\n",
      " 2   osmo     90 non-null     int64  \n",
      " 3   cond     90 non-null     float64\n",
      " 4   urea     90 non-null     int64  \n",
      " 5   calc     90 non-null     float64\n",
      " 6   target   90 non-null     int64  \n",
      "dtypes: float64(4), int64(3)\n",
      "memory usage: 5.1 KB\n"
     ]
    }
   ],
   "source": [
    "data.drop(columns='Unnamed: 0', inplace=True)\n",
    "data.info()"
   ]
  },
  {
   "cell_type": "code",
   "execution_count": 5,
   "id": "5f0e8310",
   "metadata": {
    "papermill": {
     "duration": 0.059516,
     "end_time": "2023-11-11T22:38:29.868288",
     "exception": false,
     "start_time": "2023-11-11T22:38:29.808772",
     "status": "completed"
    },
    "scrolled": true,
    "tags": []
   },
   "outputs": [
    {
     "data": {
      "text/html": [
       "<div>\n",
       "<style scoped>\n",
       "    .dataframe tbody tr th:only-of-type {\n",
       "        vertical-align: middle;\n",
       "    }\n",
       "\n",
       "    .dataframe tbody tr th {\n",
       "        vertical-align: top;\n",
       "    }\n",
       "\n",
       "    .dataframe thead th {\n",
       "        text-align: right;\n",
       "    }\n",
       "</style>\n",
       "<table border=\"1\" class=\"dataframe\">\n",
       "  <thead>\n",
       "    <tr style=\"text-align: right;\">\n",
       "      <th></th>\n",
       "      <th>gravity</th>\n",
       "      <th>ph</th>\n",
       "      <th>osmo</th>\n",
       "      <th>cond</th>\n",
       "      <th>urea</th>\n",
       "      <th>calc</th>\n",
       "      <th>target</th>\n",
       "    </tr>\n",
       "  </thead>\n",
       "  <tbody>\n",
       "    <tr>\n",
       "      <th>count</th>\n",
       "      <td>90.000000</td>\n",
       "      <td>90.000000</td>\n",
       "      <td>90.000000</td>\n",
       "      <td>90.000000</td>\n",
       "      <td>90.000000</td>\n",
       "      <td>90.000000</td>\n",
       "      <td>90.000000</td>\n",
       "    </tr>\n",
       "    <tr>\n",
       "      <th>mean</th>\n",
       "      <td>1.017952</td>\n",
       "      <td>6.036651</td>\n",
       "      <td>602.333333</td>\n",
       "      <td>20.621687</td>\n",
       "      <td>258.200000</td>\n",
       "      <td>4.017788</td>\n",
       "      <td>0.500000</td>\n",
       "    </tr>\n",
       "    <tr>\n",
       "      <th>std</th>\n",
       "      <td>0.006780</td>\n",
       "      <td>0.711801</td>\n",
       "      <td>238.459805</td>\n",
       "      <td>7.654448</td>\n",
       "      <td>135.381127</td>\n",
       "      <td>3.016273</td>\n",
       "      <td>0.502801</td>\n",
       "    </tr>\n",
       "    <tr>\n",
       "      <th>min</th>\n",
       "      <td>1.005000</td>\n",
       "      <td>4.760000</td>\n",
       "      <td>187.000000</td>\n",
       "      <td>5.100000</td>\n",
       "      <td>10.000000</td>\n",
       "      <td>0.170000</td>\n",
       "      <td>0.000000</td>\n",
       "    </tr>\n",
       "    <tr>\n",
       "      <th>25%</th>\n",
       "      <td>1.012258</td>\n",
       "      <td>5.536520</td>\n",
       "      <td>411.500000</td>\n",
       "      <td>14.150000</td>\n",
       "      <td>148.250000</td>\n",
       "      <td>1.412500</td>\n",
       "      <td>0.000000</td>\n",
       "    </tr>\n",
       "    <tr>\n",
       "      <th>50%</th>\n",
       "      <td>1.018000</td>\n",
       "      <td>5.936247</td>\n",
       "      <td>572.000000</td>\n",
       "      <td>21.177172</td>\n",
       "      <td>231.500000</td>\n",
       "      <td>3.230000</td>\n",
       "      <td>0.500000</td>\n",
       "    </tr>\n",
       "    <tr>\n",
       "      <th>75%</th>\n",
       "      <td>1.023000</td>\n",
       "      <td>6.490000</td>\n",
       "      <td>778.000000</td>\n",
       "      <td>26.075000</td>\n",
       "      <td>366.250000</td>\n",
       "      <td>5.965127</td>\n",
       "      <td>1.000000</td>\n",
       "    </tr>\n",
       "    <tr>\n",
       "      <th>max</th>\n",
       "      <td>1.034000</td>\n",
       "      <td>7.940000</td>\n",
       "      <td>1236.000000</td>\n",
       "      <td>38.000000</td>\n",
       "      <td>620.000000</td>\n",
       "      <td>13.000000</td>\n",
       "      <td>1.000000</td>\n",
       "    </tr>\n",
       "  </tbody>\n",
       "</table>\n",
       "</div>"
      ],
      "text/plain": [
       "         gravity         ph         osmo       cond        urea       calc  \\\n",
       "count  90.000000  90.000000    90.000000  90.000000   90.000000  90.000000   \n",
       "mean    1.017952   6.036651   602.333333  20.621687  258.200000   4.017788   \n",
       "std     0.006780   0.711801   238.459805   7.654448  135.381127   3.016273   \n",
       "min     1.005000   4.760000   187.000000   5.100000   10.000000   0.170000   \n",
       "25%     1.012258   5.536520   411.500000  14.150000  148.250000   1.412500   \n",
       "50%     1.018000   5.936247   572.000000  21.177172  231.500000   3.230000   \n",
       "75%     1.023000   6.490000   778.000000  26.075000  366.250000   5.965127   \n",
       "max     1.034000   7.940000  1236.000000  38.000000  620.000000  13.000000   \n",
       "\n",
       "          target  \n",
       "count  90.000000  \n",
       "mean    0.500000  \n",
       "std     0.502801  \n",
       "min     0.000000  \n",
       "25%     0.000000  \n",
       "50%     0.500000  \n",
       "75%     1.000000  \n",
       "max     1.000000  "
      ]
     },
     "execution_count": 5,
     "metadata": {},
     "output_type": "execute_result"
    }
   ],
   "source": [
    "data.describe(include='all')"
   ]
  },
  {
   "cell_type": "code",
   "execution_count": 6,
   "id": "6b58848b",
   "metadata": {
    "papermill": {
     "duration": 0.026569,
     "end_time": "2023-11-11T22:38:29.911612",
     "exception": false,
     "start_time": "2023-11-11T22:38:29.885043",
     "status": "completed"
    },
    "tags": []
   },
   "outputs": [
    {
     "name": "stdout",
     "output_type": "stream",
     "text": [
      "Index(['gravity', 'ph', 'osmo', 'cond', 'urea', 'calc', 'target'], dtype='object')\n"
     ]
    }
   ],
   "source": [
    "print(data.columns)"
   ]
  },
  {
   "cell_type": "markdown",
   "id": "f0ac7cb6",
   "metadata": {
    "papermill": {
     "duration": 0.016239,
     "end_time": "2023-11-11T22:38:29.944238",
     "exception": false,
     "start_time": "2023-11-11T22:38:29.927999",
     "status": "completed"
    },
    "tags": []
   },
   "source": [
    "<a id=\"data_wrangling\"></a>\n",
    "# <p style=\"padding:15px;background-color:navy ;margin:0;color:#ffffff;font-family:Chalkduster;font-size:75%;text-align:center;border-radius: 75px 75px;font-weight:700; box-shadow: 10px 10px 5px #32409c\">Step 3 | Data Wrangling</p>\n",
    "### 🔝 [Tabel of Contents](#content)"
   ]
  },
  {
   "cell_type": "markdown",
   "id": "3af5b876",
   "metadata": {
    "papermill": {
     "duration": 0.018042,
     "end_time": "2023-11-11T22:38:29.979679",
     "exception": false,
     "start_time": "2023-11-11T22:38:29.961637",
     "status": "completed"
    },
    "tags": []
   },
   "source": [
    "<a id=\"normal_range\"></a>\n",
    "# <b><span style=\"color:#0266b7\">Step 3.1 | </span><span style=\"color:#ff6200\">Normal Ranges</span></b>"
   ]
  },
  {
   "cell_type": "markdown",
   "id": "471abb45",
   "metadata": {
    "papermill": {
     "duration": 0.016534,
     "end_time": "2023-11-11T22:38:30.013584",
     "exception": false,
     "start_time": "2023-11-11T22:38:29.997050",
     "status": "completed"
    },
    "tags": []
   },
   "source": [
    "| Element | Normal Rnage |\n",
    "|---------|--------------|\n",
    "| Gravity | 1.005 - 1.030 |\n",
    "| PH | 4.5 - 8 |\n",
    "| Osmolality | 50 - 1200 |\n",
    "| Conductivity | 1 - 34 |\n",
    "| Urea | 70 - 210 |\n",
    "| Calcium | 5 - 20 |"
   ]
  },
  {
   "cell_type": "code",
   "execution_count": 7,
   "id": "4e454955",
   "metadata": {
    "papermill": {
     "duration": 0.031241,
     "end_time": "2023-11-11T22:38:30.061552",
     "exception": false,
     "start_time": "2023-11-11T22:38:30.030311",
     "status": "completed"
    },
    "tags": []
   },
   "outputs": [
    {
     "data": {
      "text/plain": [
       "{'gravity': [1.005, 1.03],\n",
       " 'ph': [4.5, 8],\n",
       " 'osmo': [50, 1200],\n",
       " 'cond': [1, 34],\n",
       " 'urea': [70, 210],\n",
       " 'calc': [5, 20]}"
      ]
     },
     "execution_count": 7,
     "metadata": {},
     "output_type": "execute_result"
    }
   ],
   "source": [
    "normal_range = {\n",
    "    'gravity' : [1.005, 1.030],\n",
    "    'ph' : [4.5, 8],\n",
    "    'osmo' : [50, 1200],\n",
    "    'cond' : [1, 34],\n",
    "    'urea' : [70, 210],\n",
    "    'calc' : [5, 20]\n",
    "}\n",
    "normal_range"
   ]
  },
  {
   "cell_type": "code",
   "execution_count": 8,
   "id": "3b3550d8",
   "metadata": {
    "papermill": {
     "duration": 0.029445,
     "end_time": "2023-11-11T22:38:30.107640",
     "exception": false,
     "start_time": "2023-11-11T22:38:30.078195",
     "status": "completed"
    },
    "tags": []
   },
   "outputs": [
    {
     "name": "stdout",
     "output_type": "stream",
     "text": [
      "Columns :  ['gravity', 'ph', 'osmo', 'cond', 'urea', 'calc']\n"
     ]
    }
   ],
   "source": [
    "cols = list(data.columns)\n",
    "cols.pop(-1)\n",
    "print('Columns : ', cols)\n",
    "y = data.target"
   ]
  },
  {
   "cell_type": "markdown",
   "id": "43818f51",
   "metadata": {
    "papermill": {
     "duration": 0.016294,
     "end_time": "2023-11-11T22:38:30.140827",
     "exception": false,
     "start_time": "2023-11-11T22:38:30.124533",
     "status": "completed"
    },
    "tags": []
   },
   "source": [
    "<a id=\"plot\"></a>\n",
    "# <b><span style=\"color:#0266b7\">Step 3.2 | </span><span style=\"color:#ff6200\">Visualization and Plots</span></b>"
   ]
  },
  {
   "cell_type": "code",
   "execution_count": 9,
   "id": "dd5a190d",
   "metadata": {
    "papermill": {
     "duration": 4.670491,
     "end_time": "2023-11-11T22:38:34.827886",
     "exception": false,
     "start_time": "2023-11-11T22:38:30.157395",
     "status": "completed"
    },
    "tags": []
   },
   "outputs": [
    {
     "data": {
      "image/png": "[encoded data removed]",
      "text/plain": [
       "<Figure size 1500x200 with 2 Axes>"
      ]
     },
     "metadata": {},
     "output_type": "display_data"
    },
    {
     "data": {
      "image/png": "[encoded data removed]",
      "text/plain": [
       "<Figure size 1500x200 with 2 Axes>"
      ]
     },
     "metadata": {},
     "output_type": "display_data"
    },
    {
     "data": {
      "image/png": "[encoded data removed]",
      "text/plain": [
       "<Figure size 1500x200 with 2 Axes>"
      ]
     },
     "metadata": {},
     "output_type": "display_data"
    },
    {
     "data": {
      "image/png": "[encoded data removed]",
      "text/plain": [
       "<Figure size 1500x200 with 2 Axes>"
      ]
     },
     "metadata": {},
     "output_type": "display_data"
    },
    {
     "data": {
      "image/png": "[encoded data removed]",
      "text/plain": [
       "<Figure size 1500x200 with 2 Axes>"
      ]
     },
     "metadata": {},
     "output_type": "display_data"
    },
    {
     "data": {
      "image/png": "[encoded data removed]",
      "text/plain": [
       "<Figure size 1500x200 with 2 Axes>"
      ]
     },
     "metadata": {},
     "output_type": "display_data"
    }
   ],
   "source": [
    "for feature in cols:\n",
    "    fig, ax = plt.subplots(1, 2, figsize=(15, 2))\n",
    "    \n",
    "    sns.boxplot(x=feature, data=data, ax=ax[0])\n",
    "    \n",
    "    sns.scatterplot(x=feature, y=data.target, data=data, ax=ax[1], hue='target')\n",
    "    plt.axvline(normal_range[feature][0], color='red')\n",
    "    plt.axvline(normal_range[feature][1], color='green')"
   ]
  },
  {
   "cell_type": "markdown",
   "id": "fabdbfb7",
   "metadata": {
    "papermill": {
     "duration": 0.020081,
     "end_time": "2023-11-11T22:38:34.868456",
     "exception": false,
     "start_time": "2023-11-11T22:38:34.848375",
     "status": "completed"
    },
    "tags": []
   },
   "source": [
    "<h4>We have no noise in data</h4>"
   ]
  },
  {
   "cell_type": "markdown",
   "id": "4039d179",
   "metadata": {
    "papermill": {
     "duration": 0.019711,
     "end_time": "2023-11-11T22:38:34.908382",
     "exception": false,
     "start_time": "2023-11-11T22:38:34.888671",
     "status": "completed"
    },
    "tags": []
   },
   "source": [
    "<a id=\"missig\"></a>\n",
    "# <b><span style=\"color:#0266b7\">Step 3.3 | </span><span style=\"color:#ff6200\">Missing Values</span></b>"
   ]
  },
  {
   "cell_type": "code",
   "execution_count": 10,
   "id": "2f24ee2b",
   "metadata": {
    "papermill": {
     "duration": 0.033047,
     "end_time": "2023-11-11T22:38:34.961472",
     "exception": false,
     "start_time": "2023-11-11T22:38:34.928425",
     "status": "completed"
    },
    "tags": []
   },
   "outputs": [
    {
     "data": {
      "text/plain": [
       "0"
      ]
     },
     "execution_count": 10,
     "metadata": {},
     "output_type": "execute_result"
    }
   ],
   "source": [
    "data.isna().sum().sum()"
   ]
  },
  {
   "cell_type": "markdown",
   "id": "26c6836d",
   "metadata": {
    "papermill": {
     "duration": 0.02243,
     "end_time": "2023-11-11T22:38:35.005446",
     "exception": false,
     "start_time": "2023-11-11T22:38:34.983016",
     "status": "completed"
    },
    "tags": []
   },
   "source": [
    "<h4>We have no missing values(Nan)</h4>"
   ]
  },
  {
   "cell_type": "markdown",
   "id": "d289c766",
   "metadata": {
    "papermill": {
     "duration": 0.020948,
     "end_time": "2023-11-11T22:38:35.048206",
     "exception": false,
     "start_time": "2023-11-11T22:38:35.027258",
     "status": "completed"
    },
    "tags": []
   },
   "source": [
    "<a id=\"ml\"></a>\n",
    "# <p style=\"padding:15px;background-color:navy ;margin:0;color:#ffffff;font-family:Chalkduster;font-size:75%;text-align:center;border-radius: 75px 75px;font-weight:700; box-shadow: 10px 10px 5px #32409c\">Step 4 | Machine Learning</p>\n",
    "### 🔝 [Tabel of Contents](#content)"
   ]
  },
  {
   "cell_type": "markdown",
   "id": "057d0bb1",
   "metadata": {
    "papermill": {
     "duration": 0.020299,
     "end_time": "2023-11-11T22:38:35.089096",
     "exception": false,
     "start_time": "2023-11-11T22:38:35.068797",
     "status": "completed"
    },
    "tags": []
   },
   "source": [
    "<a id=\"missig\"></a>\n",
    "# <b><span style=\"color:#0266b7\">Step 4.1 | </span><span style=\"color:#ff6200\"> Initializatios </span></b>"
   ]
  },
  {
   "cell_type": "code",
   "execution_count": 11,
   "id": "66a84547",
   "metadata": {
    "papermill": {
     "duration": 0.030007,
     "end_time": "2023-11-11T22:38:35.139708",
     "exception": false,
     "start_time": "2023-11-11T22:38:35.109701",
     "status": "completed"
    },
    "tags": []
   },
   "outputs": [],
   "source": [
    "X = data.drop(columns='target')\n",
    "y = data.target.values.reshape(-1, 1)\n",
    "features = X.columns"
   ]
  },
  {
   "cell_type": "code",
   "execution_count": 12,
   "id": "dbdf7c37",
   "metadata": {
    "papermill": {
     "duration": 0.03138,
     "end_time": "2023-11-11T22:38:35.191701",
     "exception": false,
     "start_time": "2023-11-11T22:38:35.160321",
     "status": "completed"
    },
    "tags": []
   },
   "outputs": [],
   "source": [
    "# Define a function to plot Confusion Matrix\n",
    "def plot_confusion_matrix(y,y_predict):\n",
    "    \"this function plots the confusion matrix\"\n",
    "    from sklearn.metrics import confusion_matrix\n",
    "\n",
    "    cm = confusion_matrix(y, y_predict)\n",
    "    ax= plt.subplot()\n",
    "    sns.heatmap(cm, annot=True, ax = ax, cmap=\"Blues\"); #annot=True to annotate cells\n",
    "    ax.set_xlabel('Predicted labels')\n",
    "    ax.set_ylabel('True labels')\n",
    "    ax.set_title('Confusion Matrix'); \n",
    "    ax.xaxis.set_ticklabels(['Have not', 'Have']); ax.yaxis.set_ticklabels(['Have not', 'Have']) \n",
    "    plt.show() "
   ]
  },
  {
   "cell_type": "markdown",
   "id": "40389b6c",
   "metadata": {
    "papermill": {
     "duration": 0.019981,
     "end_time": "2023-11-11T22:38:35.232163",
     "exception": false,
     "start_time": "2023-11-11T22:38:35.212182",
     "status": "completed"
    },
    "tags": []
   },
   "source": [
    "<a id=\"normalize\"></a>\n",
    "# <b><span style=\"color:#0266b7\">Step 4.2 | </span><span style=\"color:#ff6200\">Nornalization</span></b>"
   ]
  },
  {
   "cell_type": "code",
   "execution_count": 13,
   "id": "745de26e",
   "metadata": {
    "papermill": {
     "duration": 0.035114,
     "end_time": "2023-11-11T22:38:35.287743",
     "exception": false,
     "start_time": "2023-11-11T22:38:35.252629",
     "status": "completed"
    },
    "tags": []
   },
   "outputs": [],
   "source": [
    "scaler = preprocessing.MinMaxScaler(feature_range=(2, 3))\n",
    "df_0 = scaler.fit_transform(X)\n",
    "df = pd.DataFrame(df_0, columns=features)"
   ]
  },
  {
   "cell_type": "markdown",
   "id": "7fd7d84a",
   "metadata": {
    "papermill": {
     "duration": 0.02037,
     "end_time": "2023-11-11T22:38:35.329083",
     "exception": false,
     "start_time": "2023-11-11T22:38:35.308713",
     "status": "completed"
    },
    "tags": []
   },
   "source": [
    "<a id=\"lr\"></a>\n",
    "# <b><span style=\"color:#0266b7\">Step 4.3 | </span><span style=\"color:#ff6200\"> LogisticRegression </span></b>"
   ]
  },
  {
   "cell_type": "code",
   "execution_count": 14,
   "id": "5f7bc53d",
   "metadata": {
    "papermill": {
     "duration": 10.314424,
     "end_time": "2023-11-11T22:38:45.665777",
     "exception": false,
     "start_time": "2023-11-11T22:38:35.351353",
     "status": "completed"
    },
    "tags": []
   },
   "outputs": [
    {
     "name": "stdout",
     "output_type": "stream",
     "text": [
      "0.25\n",
      "{'C': 10, 'penalty': 'l2', 'solver': 'liblinear'}\n",
      "0.782608695652174\n"
     ]
    }
   ],
   "source": [
    "parameters ={'C':[0.01,0.1,1,10],\n",
    "             'penalty':['l2', 'l1'],\n",
    "             'solver':['lbfgs', 'liblinear', 'saga']}\n",
    "\n",
    "tester = [0.1, 0.15, 0.2, 0.25, 0.3, 0.35]\n",
    "best_score = 0\n",
    "best_t = 0\n",
    "best_hyper_param = {}\n",
    "\n",
    "for t in tester :\n",
    "    X_train, X_test, y_train, y_test = train_test_split(df, y, test_size=t, random_state=0)\n",
    "    lr=LogisticRegression()\n",
    "    logreg_cv = GridSearchCV(estimator=lr, cv=10, param_grid=parameters).fit(X_train, y_train)\n",
    "    yhat=logreg_cv.predict(X_test)\n",
    "    score = metrics.accuracy_score(y_test, yhat)\n",
    "    if score >  best_score :\n",
    "        best_score = score\n",
    "        best_t = t\n",
    "        best_hyper_param = logreg_cv.best_params_\n",
    "print(best_t)\n",
    "print(best_hyper_param)\n",
    "print(best_score)"
   ]
  },
  {
   "cell_type": "code",
   "execution_count": 15,
   "id": "14f8b068",
   "metadata": {
    "papermill": {
     "duration": 0.04346,
     "end_time": "2023-11-11T22:38:45.731612",
     "exception": false,
     "start_time": "2023-11-11T22:38:45.688152",
     "status": "completed"
    },
    "tags": []
   },
   "outputs": [
    {
     "name": "stdout",
     "output_type": "stream",
     "text": [
      "0.782608695652174\n"
     ]
    }
   ],
   "source": [
    "X_train, X_test, y_train, y_test = train_test_split(df, y, test_size=best_t, random_state=0)\n",
    "lr=LogisticRegression(**best_hyper_param).fit(X_train, y_train)\n",
    "yhat=lr.predict(X_test)\n",
    "logreg_score = lr.score(X_test, y_test)\n",
    "print(logreg_score)"
   ]
  },
  {
   "cell_type": "code",
   "execution_count": 16,
   "id": "6ca7b192",
   "metadata": {
    "papermill": {
     "duration": 0.333204,
     "end_time": "2023-11-11T22:38:46.085424",
     "exception": false,
     "start_time": "2023-11-11T22:38:45.752220",
     "status": "completed"
    },
    "tags": []
   },
   "outputs": [
    {
     "data": {
      "image/png": "[encoded data removed]",
      "text/plain": [
       "<Figure size 640x480 with 2 Axes>"
      ]
     },
     "metadata": {},
     "output_type": "display_data"
    }
   ],
   "source": [
    "plot_confusion_matrix(y_test,yhat)"
   ]
  },
  {
   "cell_type": "markdown",
   "id": "42a34fe8-8319-453f-9eab-b994093c8dc6",
   "metadata": {
    "tags": []
   },
   "source": [
    "<div style=\"border-radius:10px; padding: 15px; background-color: #f0f2fa; font-size:150%; text-align:left; font-weight:500\">\n",
    "<span>Logistic Regression </b> Accuracy: <b>0.7826 or 78.26%</b></span>\n",
    "</div>"
   ]
  },
  {
   "cell_type": "markdown",
   "id": "119a8af5",
   "metadata": {
    "papermill": {
     "duration": 0.022592,
     "end_time": "2023-11-11T22:38:46.129529",
     "exception": false,
     "start_time": "2023-11-11T22:38:46.106937",
     "status": "completed"
    },
    "tags": []
   },
   "source": [
    "<a id=\"tree\"></a>\n",
    "# <b><span style=\"color:#0266b7\">Step 4.4 | </span><span style=\"color:#ff6200\"> DecisionTreeClassifier </span></b>"
   ]
  },
  {
   "cell_type": "code",
   "execution_count": 17,
   "id": "8bb04fe1",
   "metadata": {
    "papermill": {
     "duration": 96.652584,
     "end_time": "2023-11-11T22:40:22.804020",
     "exception": false,
     "start_time": "2023-11-11T22:38:46.151436",
     "status": "completed"
    },
    "tags": []
   },
   "outputs": [
    {
     "name": "stdout",
     "output_type": "stream",
     "text": [
      "0.1\n",
      "{'criterion': 'entropy', 'max_depth': 10, 'max_features': 'sqrt', 'min_samples_leaf': 4, 'min_samples_split': 2, 'splitter': 'best'}\n",
      "0.7777777777777778\n"
     ]
    }
   ],
   "source": [
    "parameters = {'criterion': ['gini', 'entropy'],\n",
    "     'splitter': ['best', 'random'],\n",
    "     'max_depth': [2*n for n in range(1,10)],\n",
    "     'max_features': ['sqrt'],\n",
    "     'min_samples_leaf': [1, 2, 4],\n",
    "     'min_samples_split': [2, 5, 10]}\n",
    "\n",
    "tester = [0.1, 0.15, 0.2, 0.25, 0.3, 0.35]\n",
    "best_score = 0\n",
    "best_t = 0\n",
    "best_hyper_param = {}\n",
    "\n",
    "for t in tester :\n",
    "    X_train, X_test, y_train, y_test = train_test_split(df, y, test_size=t, random_state=0)\n",
    "    tree = DecisionTreeClassifier()S\n",
    "    tree_cv = GridSearchCV(estimator=tree, cv=10, param_grid=parameters).fit(X_train, y_train)\n",
    "    yhat = tree_cv.predict(X_test)\n",
    "    score = metrics.accuracy_score(y_test, yhat)\n",
    "    if score >  best_score :\n",
    "        best_score = score\n",
    "        best_t = t\n",
    "        best_hyper_param = tree_cv.best_params_\n",
    "print(best_t)\n",
    "print(best_hyper_param)\n",
    "print(best_score)"
   ]
  },
  {
   "cell_type": "code",
   "execution_count": 18,
   "id": "3e0612ee",
   "metadata": {
    "papermill": {
     "duration": 0.042121,
     "end_time": "2023-11-11T22:40:22.867366",
     "exception": false,
     "start_time": "2023-11-11T22:40:22.825245",
     "status": "completed"
    },
    "tags": []
   },
   "outputs": [
    {
     "name": "stdout",
     "output_type": "stream",
     "text": [
      "0.6666666666666666\n"
     ]
    }
   ],
   "source": [
    "X_train, X_test, y_train, y_test = train_test_split(df, y, test_size=best_t, random_state=0)\n",
    "tree = DecisionTreeClassifier(**best_hyper_param).fit(X_train, y_train)\n",
    "yhat = tree.predict(X_test)\n",
    "tree_cv_score = tree.score(X_test, y_test)\n",
    "print(tree_cv_score)"
   ]
  },
  {
   "cell_type": "code",
   "execution_count": 19,
   "id": "172ea844",
   "metadata": {
    "papermill": {
     "duration": 0.343805,
     "end_time": "2023-11-11T22:40:23.232486",
     "exception": false,
     "start_time": "2023-11-11T22:40:22.888681",
     "status": "completed"
    },
    "tags": []
   },
   "outputs": [
    {
     "data": {
      "image/png": "[encoded data removed]",
      "text/plain": [
       "<Figure size 640x480 with 2 Axes>"
      ]
     },
     "metadata": {},
     "output_type": "display_data"
    }
   ],
   "source": [
    "plot_confusion_matrix(y_test,yhat)"
   ]
  },
  {
   "cell_type": "markdown",
   "id": "79fb8831-8b7f-4ed2-afdd-03fa637e6fb0",
   "metadata": {},
   "source": [
    "<div style=\"border-radius:10px; padding: 15px; background-color: #f0f2fa; font-size:150%; text-align:left; font-weight:500\">\n",
    "<span>Decision Tree Classifier </b> Accuracy: <b>0.6667 or 66.67%</b></span>\n",
    "</div>"
   ]
  },
  {
   "cell_type": "markdown",
   "id": "ac132c57",
   "metadata": {
    "papermill": {
     "duration": 0.021414,
     "end_time": "2023-11-11T22:40:23.276172",
     "exception": false,
     "start_time": "2023-11-11T22:40:23.254758",
     "status": "completed"
    },
    "tags": []
   },
   "source": [
    "<a id=\"knn\"></a>\n",
    "# <b><span style=\"color:#0266b7\">Step 4.5 | </span><span style=\"color:#ff6200\"> KNeighborsClassifier </span></b>"
   ]
  },
  {
   "cell_type": "code",
   "execution_count": 20,
   "id": "4d3e4978",
   "metadata": {
    "papermill": {
     "duration": 35.855066,
     "end_time": "2023-11-11T22:40:59.153041",
     "exception": false,
     "start_time": "2023-11-11T22:40:23.297975",
     "status": "completed"
    },
    "tags": []
   },
   "outputs": [
    {
     "name": "stdout",
     "output_type": "stream",
     "text": [
      "0.1\n",
      "{'algorithm': 'auto', 'n_neighbors': 4, 'p': 2}\n",
      "0.7777777777777778\n"
     ]
    }
   ],
   "source": [
    "parameters = {'n_neighbors': [1, 2, 3, 4, 5, 6, 7, 8, 9, 10],\n",
    "              'algorithm': ['auto', 'ball_tree', 'kd_tree', 'brute'],\n",
    "              'p': [1,2]}\n",
    "\n",
    "tester = [0.1, 0.15, 0.2, 0.25, 0.3, 0.35]\n",
    "best_score = 0\n",
    "best_t = 0\n",
    "best_hyper_param = {}\n",
    "\n",
    "for t in tester :\n",
    "    X_train, X_test, y_train, y_test = train_test_split(df, y, test_size=t, random_state=0)\n",
    "    KNN = KNeighborsClassifier()\n",
    "    knn_cv = GridSearchCV(estimator=KNN, cv=10, param_grid=parameters).fit(X_train, y_train)\n",
    "    yhat = knn_cv.predict(X_test)\n",
    "    score = metrics.accuracy_score(y_test, yhat)\n",
    "    if score >  best_score :\n",
    "        best_score = score\n",
    "        best_t = t\n",
    "        best_hyper_param = knn_cv.best_params_\n",
    "print(best_t)\n",
    "print(best_hyper_param)\n",
    "print(best_score)"
   ]
  },
  {
   "cell_type": "code",
   "execution_count": 21,
   "id": "80841eea",
   "metadata": {
    "papermill": {
     "duration": 0.048911,
     "end_time": "2023-11-11T22:40:59.223996",
     "exception": false,
     "start_time": "2023-11-11T22:40:59.175085",
     "status": "completed"
    },
    "tags": []
   },
   "outputs": [
    {
     "name": "stdout",
     "output_type": "stream",
     "text": [
      "0.6875\n"
     ]
    }
   ],
   "source": [
    "X_train, X_test, y_train, y_test = train_test_split(df, y, test_size=best_t, random_state=0)\n",
    "KNN = KNeighborsClassifier(**best_hyper_param).fit(X_train, y_train)\n",
    "yhat = KNN.predict(X_test)\n",
    "knn_cv_score = metrics.accuracy_score(y_test, yhat)\n",
    "print(score)"
   ]
  },
  {
   "cell_type": "code",
   "execution_count": 22,
   "id": "734bc4ae",
   "metadata": {
    "papermill": {
     "duration": 0.336086,
     "end_time": "2023-11-11T22:40:59.583980",
     "exception": false,
     "start_time": "2023-11-11T22:40:59.247894",
     "status": "completed"
    },
    "tags": []
   },
   "outputs": [
    {
     "data": {
      "image/png": "[encoded data removed]",
      "text/plain": [
       "<Figure size 640x480 with 2 Axes>"
      ]
     },
     "metadata": {},
     "output_type": "display_data"
    }
   ],
   "source": [
    "plot_confusion_matrix(y_test,yhat)"
   ]
  },
  {
   "cell_type": "markdown",
   "id": "01484e54-0498-4261-91f8-15a6912d6d07",
   "metadata": {},
   "source": [
    "<div style=\"border-radius:10px; padding: 15px; background-color: #f0f2fa; font-size:150%; text-align:left; font-weight:500\">\n",
    "<span>KNeighbors Classifier </b> Accuracy: <b>0.7778 or 77.78%</b></span>\n",
    "</div>"
   ]
  },
  {
   "cell_type": "markdown",
   "id": "131caf64",
   "metadata": {
    "papermill": {
     "duration": 0.022688,
     "end_time": "2023-11-11T22:40:59.638324",
     "exception": false,
     "start_time": "2023-11-11T22:40:59.615636",
     "status": "completed"
    },
    "tags": []
   },
   "source": [
    "<a id=\"rf\"></a>\n",
    "# <b><span style=\"color:#0266b7\">Step 4.6 | </span><span style=\"color:#ff6200\"> RandomForestClassifier </span></b>"
   ]
  },
  {
   "cell_type": "code",
   "execution_count": 23,
   "id": "cd9126ef",
   "metadata": {
    "papermill": {
     "duration": 389.099968,
     "end_time": "2023-11-11T22:47:28.761224",
     "exception": false,
     "start_time": "2023-11-11T22:40:59.661256",
     "status": "completed"
    },
    "tags": []
   },
   "outputs": [
    {
     "name": "stdout",
     "output_type": "stream",
     "text": [
      "0.1\n",
      "{'criterion': 'entropy', 'max_depth': 18, 'max_features': 'sqrt', 'n_estimators': 1000}\n",
      "0.8888888888888888\n"
     ]
    }
   ],
   "source": [
    "parameters = {\n",
    "     'n_estimators' : [1000],\n",
    "     'criterion': ['gini', 'entropy'],\n",
    "     'max_depth': [10, 18, 20],\n",
    "     'max_features': ['sqrt']}\n",
    "\n",
    "tester = [0.1, 0.2, 0.3]\n",
    "best_score = 0\n",
    "best_t = 0\n",
    "best_hyper_param = {}\n",
    "\n",
    "for t in tester :\n",
    "    X_train, X_test, y_train, y_test = train_test_split(df, y, test_size=t, random_state=0)\n",
    "    rf = RandomForestClassifier()\n",
    "    rf_cv = GridSearchCV(estimator=rf, cv=10, param_grid=parameters).fit(X_train, y_train)\n",
    "    yhat = rf_cv.predict(X_test)\n",
    "    score = metrics.accuracy_score(y_test, yhat)\n",
    "    if score >  best_score :\n",
    "        best_score = score\n",
    "        best_t = t\n",
    "        best_hyper_param = rf_cv.best_params_\n",
    "print(best_t)\n",
    "print(best_hyper_param)\n",
    "print(best_score)"
   ]
  },
  {
   "cell_type": "code",
   "execution_count": 24,
   "id": "d5a88e2c",
   "metadata": {
    "papermill": {
     "duration": 0.038363,
     "end_time": "2023-11-11T22:47:28.823104",
     "exception": false,
     "start_time": "2023-11-11T22:47:28.784741",
     "status": "completed"
    },
    "tags": []
   },
   "outputs": [
    {
     "data": {
      "text/plain": [
       "{'criterion': 'entropy',\n",
       " 'max_depth': 18,\n",
       " 'max_features': 'sqrt',\n",
       " 'n_estimators': 1000}"
      ]
     },
     "execution_count": 24,
     "metadata": {},
     "output_type": "execute_result"
    }
   ],
   "source": [
    "best_hyper_param"
   ]
  },
  {
   "cell_type": "code",
   "execution_count": 25,
   "id": "b8d54292",
   "metadata": {
    "papermill": {
     "duration": 2.193276,
     "end_time": "2023-11-11T22:47:31.039746",
     "exception": false,
     "start_time": "2023-11-11T22:47:28.846470",
     "status": "completed"
    },
    "tags": []
   },
   "outputs": [
    {
     "name": "stdout",
     "output_type": "stream",
     "text": [
      "0.8888888888888888\n"
     ]
    }
   ],
   "source": [
    "X_train, X_test, y_train, y_test = train_test_split(df, y, test_size=best_t, random_state=0)\n",
    "rf = RandomForestClassifier(**best_hyper_param).fit(X_train, y_train)\n",
    "yhat = rf.predict(X_test)\n",
    "rf_cv_score = metrics.accuracy_score(y_test, yhat)\n",
    "print(rf_cv_score)"
   ]
  },
  {
   "cell_type": "code",
   "execution_count": 26,
   "id": "97f95cef-ff51-492a-9d0a-019d0ac73d3f",
   "metadata": {
    "tags": []
   },
   "outputs": [
    {
     "data": {
      "image/png": "[encoded data removed]",
      "text/plain": [
       "<Figure size 640x480 with 2 Axes>"
      ]
     },
     "metadata": {},
     "output_type": "display_data"
    }
   ],
   "source": [
    "plot_confusion_matrix(y_test,yhat)"
   ]
  },
  {
   "cell_type": "markdown",
   "id": "ef016f51-8133-48df-b658-fcd8e51c7eb9",
   "metadata": {},
   "source": [
    "<div style=\"border-radius:10px; padding: 15px; background-color: #f0f2fa; font-size:150%; text-align:left; font-weight:500\">\n",
    "<span>Random Forest Classifier </b> Accuracy: <b>0.8889 or 88.89%</b></span>\n",
    "</div>"
   ]
  },
  {
   "cell_type": "markdown",
   "id": "63cb62ed",
   "metadata": {
    "papermill": {
     "duration": 0.02353,
     "end_time": "2023-11-11T22:47:31.088265",
     "exception": false,
     "start_time": "2023-11-11T22:47:31.064735",
     "status": "completed"
    },
    "tags": []
   },
   "source": [
    "<a id=\"result\"></a>\n",
    "# <b><span style=\"color:#0266b7\">Step 4.7 | </span><span style=\"color:#ff6200\"> Result </span></b>"
   ]
  },
  {
   "cell_type": "code",
   "execution_count": 27,
   "id": "367a42f0",
   "metadata": {
    "papermill": {
     "duration": 0.039965,
     "end_time": "2023-11-11T22:47:31.153476",
     "exception": false,
     "start_time": "2023-11-11T22:47:31.113511",
     "status": "completed"
    },
    "tags": []
   },
   "outputs": [
    {
     "data": {
      "text/html": [
       "<div>\n",
       "<style scoped>\n",
       "    .dataframe tbody tr th:only-of-type {\n",
       "        vertical-align: middle;\n",
       "    }\n",
       "\n",
       "    .dataframe tbody tr th {\n",
       "        vertical-align: top;\n",
       "    }\n",
       "\n",
       "    .dataframe thead th {\n",
       "        text-align: right;\n",
       "    }\n",
       "</style>\n",
       "<table border=\"1\" class=\"dataframe\">\n",
       "  <thead>\n",
       "    <tr style=\"text-align: right;\">\n",
       "      <th></th>\n",
       "      <th>Algorithm</th>\n",
       "      <th>Accuracy</th>\n",
       "    </tr>\n",
       "  </thead>\n",
       "  <tbody>\n",
       "    <tr>\n",
       "      <th>0</th>\n",
       "      <td>LogisticRegression</td>\n",
       "      <td>0.782609</td>\n",
       "    </tr>\n",
       "    <tr>\n",
       "      <th>1</th>\n",
       "      <td>DecisionTree</td>\n",
       "      <td>0.666667</td>\n",
       "    </tr>\n",
       "    <tr>\n",
       "      <th>2</th>\n",
       "      <td>KNeighborsClassifier</td>\n",
       "      <td>0.777778</td>\n",
       "    </tr>\n",
       "    <tr>\n",
       "      <th>3</th>\n",
       "      <td>RandomForestClassifier</td>\n",
       "      <td>0.888889</td>\n",
       "    </tr>\n",
       "  </tbody>\n",
       "</table>\n",
       "</div>"
      ],
      "text/plain": [
       "                Algorithm  Accuracy\n",
       "0      LogisticRegression  0.782609\n",
       "1            DecisionTree  0.666667\n",
       "2    KNeighborsClassifier  0.777778\n",
       "3  RandomForestClassifier  0.888889"
      ]
     },
     "execution_count": 27,
     "metadata": {},
     "output_type": "execute_result"
    }
   ],
   "source": [
    "result = pd.DataFrame({\n",
    "    'Algorithm' : ['LogisticRegression', 'DecisionTree', 'KNeighborsClassifier', 'RandomForestClassifier'],\n",
    "    'Accuracy' : [logreg_score, tree_cv_score, knn_cv_score, rf_cv_score]\n",
    "})\n",
    "result"
   ]
  },
  {
   "cell_type": "code",
   "execution_count": 28,
   "id": "258be73d",
   "metadata": {
    "papermill": {
     "duration": 0.313888,
     "end_time": "2023-11-11T22:47:31.491420",
     "exception": false,
     "start_time": "2023-11-11T22:47:31.177532",
     "status": "completed"
    },
    "tags": []
   },
   "outputs": [
    {
     "data": {
      "image/png": "[encoded data removed]",
      "text/plain": [
       "<Figure size 640x480 with 1 Axes>"
      ]
     },
     "metadata": {},
     "output_type": "display_data"
    }
   ],
   "source": [
    "# Create a barplot\n",
    "ax = sns.barplot(x=result.Algorithm, y=result.Accuracy)\n",
    "plt.xticks(rotation=300)\n",
    "# Add values with custom formatting\n",
    "for i, v in enumerate(result.Accuracy):\n",
    "   ax.text(i, v+0.01*v, str(round(v, 2)), ha='center')"
   ]
  },
  {
   "cell_type": "markdown",
   "id": "1299a0b2",
   "metadata": {
    "papermill": {
     "duration": 0.023445,
     "end_time": "2023-11-11T22:47:31.538837",
     "exception": false,
     "start_time": "2023-11-11T22:47:31.515392",
     "status": "completed"
    },
    "tags": []
   },
   "source": [
    "<div style=\"border-radius:10px; padding: 15px; background-color: #f0f2fa; font-size:150%; text-align:left; font-weight:500\">\n",
    "<span>Best Algorithm is <b>RandomForestClassifier </b> with Accuracy : <b>89%</b></span>\n",
    "</div>"
   ]
  },
  {
   "cell_type": "markdown",
   "id": "4fc1f2cd",
   "metadata": {
    "papermill": {
     "duration": 0.023662,
     "end_time": "2023-11-11T22:47:31.685303",
     "exception": false,
     "start_time": "2023-11-11T22:47:31.661641",
     "status": "completed"
    },
    "tags": []
   },
   "source": [
    "## <p style=\"text-align:center; font-size:150%\">🔝 [Go to Top](#content) 🔝 </p>"
   ]
  },
  {
   "cell_type": "code",
   "execution_count": null,
   "id": "a3274490-58e4-4b07-ae76-47eb6746891c",
   "metadata": {},
   "outputs": [],
   "source": []
  },
  {
   "cell_type": "code",
   "execution_count": null,
   "id": "6c4339f2-107a-4797-ade2-5a7bd10fcfbd",
   "metadata": {},
   "outputs": [],
   "source": []
  }
 ],
 "metadata": {
  "kernelspec": {
   "display_name": "Python 3 (ipykernel)",
   "language": "python",
   "name": "python3"
  },
  "language_info": {
   "codemirror_mode": {
    "name": "ipython",
    "version": 3
   },
   "file_extension": ".py",
   "mimetype": "text/x-python",
   "name": "python",
   "nbconvert_exporter": "python",
   "pygments_lexer": "ipython3",
   "version": "3.11.4"
  },
  "papermill": {
   "default_parameters": {},
   "duration": 549.666275,
   "end_time": "2023-11-11T22:47:32.434619",
   "environment_variables": {},
   "exception": null,
   "input_path": "__notebook__.ipynb",
   "output_path": "__notebook__.ipynb",
   "parameters": {},
   "start_time": "2023-11-11T22:38:22.768344",
   "version": "2.4.0"
  }
 },
 "nbformat": 4,
 "nbformat_minor": 5
}
